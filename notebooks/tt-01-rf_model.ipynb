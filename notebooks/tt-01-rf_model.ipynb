{
 "nbformat": 4,
 "nbformat_minor": 2,
 "metadata": {
  "language_info": {
   "name": "python",
   "codemirror_mode": {
    "name": "ipython",
    "version": 3
   },
   "version": "3.8.0"
  },
  "orig_nbformat": 2,
  "file_extension": ".py",
  "mimetype": "text/x-python",
  "name": "python",
  "npconvert_exporter": "python",
  "pygments_lexer": "ipython3",
  "version": 3
 },
 "cells": [
  {
   "cell_type": "markdown",
   "metadata": {},
   "outputs": [],
   "source": [
    "# Random Forest Classifier\n",
    "\n",
    "## Imports and Globals"
   ]
  },
  {
   "cell_type": "code",
   "execution_count": 1,
   "metadata": {},
   "outputs": [],
   "source": [
    "import mahalangur as mhgr\n",
    "import numpy as np\n",
    "import pandas as pd\n",
    "import sklearn\n",
    "import sqlite3\n",
    "\n",
    "from hashlib import sha256\n",
    "from sklearn.model_selection import LeaveOneGroupOut, GridSearchCV\n",
    "from sklearn.ensemble import RandomForestClassifier"
   ]
  },
  {
   "cell_type": "markdown",
   "metadata": {},
   "outputs": [],
   "source": [
    "## Read Data"
   ]
  },
  {
   "cell_type": "code",
   "execution_count": 2,
   "metadata": {},
   "outputs": [],
   "source": [
    "sql = 'SELECT * FROM model_base WHERE expedition_year >= 1970;'\n",
    "\n",
    "conn = sqlite3.connect(mhgr.DATABASE_PATH)\n",
    "hdb_df = pd.read_sql(sql, conn, index_col=['expedition_id', 'member_id'])\n",
    "conn.close()"
   ]
  },
  {
   "cell_type": "code",
   "execution_count": 3,
   "metadata": {},
   "outputs": [],
   "source": [
    "def partition(id_values, n_partitions=10):\n",
    "    return (int(sha256('-'.join(id_values).encode('utf-8')).hexdigest(), 16) % n_partitions) + 1"
   ]
  },
  {
   "cell_type": "code",
   "execution_count": 4,
   "metadata": {},
   "outputs": [],
   "source": [
    "hdb_df['fold'] = hdb_df.index.map(lambda x: partition(x, 10))\n",
    "hdb_df['test_indicator'] = hdb_df.index.map(lambda x: partition(x, 5) == 1)"
   ]
  },
  {
   "cell_type": "markdown",
   "execution_count": null,
   "metadata": {},
   "outputs": [],
   "source": [
    "## Create Model"
   ]
  },
  {
   "cell_type": "code",
   "execution_count": 5,
   "metadata": {},
   "outputs": [],
   "source": [
    "model_df = pd.get_dummies(data=pd.concat([\n",
    "    hdb_df['himal'],\n",
    "    hdb_df['height'],\n",
    "    hdb_df['expedition_year'],\n",
    "    hdb_df['season'],\n",
    "    pd.Series(hdb_df['commercial_route'] == 'Y', name='commercial_route', dtype=np.uint8),\n",
    "    hdb_df['total_members'],\n",
    "    hdb_df['total_hired'],\n",
    "    hdb_df['age'],\n",
    "    pd.Series(hdb_df['sex'] == 'F', name='female', dtype=np.uint8),\n",
    "    pd.Series(hdb_df['o2_used'] == 'Y', name='o2_used', dtype=np.uint8)\n",
    "], axis=1), columns = ['season', 'himal'])\n",
    "\n",
    "model_df.columns = map(str.lower, model_df.columns)"
   ]
  },
  {
   "cell_type": "code",
   "execution_count": 6,
   "metadata": {},
   "outputs": [
    {
     "data": {
      "text/html": "<div>\n<style scoped>\n    .dataframe tbody tr th:only-of-type {\n        vertical-align: middle;\n    }\n\n    .dataframe tbody tr th {\n        vertical-align: top;\n    }\n\n    .dataframe thead th {\n        text-align: right;\n    }\n</style>\n<table border=\"1\" class=\"dataframe\">\n  <thead>\n    <tr style=\"text-align: right;\">\n      <th></th>\n      <th></th>\n      <th>height</th>\n      <th>expedition_year</th>\n      <th>commercial_route</th>\n      <th>total_members</th>\n      <th>total_hired</th>\n      <th>age</th>\n      <th>female</th>\n      <th>o2_used</th>\n      <th>season_autumn</th>\n      <th>season_spring</th>\n      <th>...</th>\n      <th>himal_northern</th>\n      <th>himal_palchunghamga</th>\n      <th>himal_pamari</th>\n      <th>himal_peri</th>\n      <th>himal_rolwaling</th>\n      <th>himal_saipal</th>\n      <th>himal_serang</th>\n      <th>himal_singalila</th>\n      <th>himal_umbak</th>\n      <th>himal_yokapahar</th>\n    </tr>\n    <tr>\n      <th>expedition_id</th>\n      <th>member_id</th>\n      <th></th>\n      <th></th>\n      <th></th>\n      <th></th>\n      <th></th>\n      <th></th>\n      <th></th>\n      <th></th>\n      <th></th>\n      <th></th>\n      <th></th>\n      <th></th>\n      <th></th>\n      <th></th>\n      <th></th>\n      <th></th>\n      <th></th>\n      <th></th>\n      <th></th>\n      <th></th>\n      <th></th>\n    </tr>\n  </thead>\n  <tbody>\n    <tr>\n      <th rowspan=\"5\" valign=\"top\">ACHN15301</th>\n      <th>01</th>\n      <td>6055</td>\n      <td>2015</td>\n      <td>0</td>\n      <td>5</td>\n      <td>0</td>\n      <td>23</td>\n      <td>0</td>\n      <td>0</td>\n      <td>1</td>\n      <td>0</td>\n      <td>...</td>\n      <td>0</td>\n      <td>0</td>\n      <td>0</td>\n      <td>0</td>\n      <td>0</td>\n      <td>0</td>\n      <td>0</td>\n      <td>0</td>\n      <td>0</td>\n      <td>0</td>\n    </tr>\n    <tr>\n      <th>02</th>\n      <td>6055</td>\n      <td>2015</td>\n      <td>0</td>\n      <td>5</td>\n      <td>0</td>\n      <td>23</td>\n      <td>1</td>\n      <td>0</td>\n      <td>1</td>\n      <td>0</td>\n      <td>...</td>\n      <td>0</td>\n      <td>0</td>\n      <td>0</td>\n      <td>0</td>\n      <td>0</td>\n      <td>0</td>\n      <td>0</td>\n      <td>0</td>\n      <td>0</td>\n      <td>0</td>\n    </tr>\n    <tr>\n      <th>03</th>\n      <td>6055</td>\n      <td>2015</td>\n      <td>0</td>\n      <td>5</td>\n      <td>0</td>\n      <td>19</td>\n      <td>0</td>\n      <td>0</td>\n      <td>1</td>\n      <td>0</td>\n      <td>...</td>\n      <td>0</td>\n      <td>0</td>\n      <td>0</td>\n      <td>0</td>\n      <td>0</td>\n      <td>0</td>\n      <td>0</td>\n      <td>0</td>\n      <td>0</td>\n      <td>0</td>\n    </tr>\n    <tr>\n      <th>04</th>\n      <td>6055</td>\n      <td>2015</td>\n      <td>0</td>\n      <td>5</td>\n      <td>0</td>\n      <td>25</td>\n      <td>0</td>\n      <td>0</td>\n      <td>1</td>\n      <td>0</td>\n      <td>...</td>\n      <td>0</td>\n      <td>0</td>\n      <td>0</td>\n      <td>0</td>\n      <td>0</td>\n      <td>0</td>\n      <td>0</td>\n      <td>0</td>\n      <td>0</td>\n      <td>0</td>\n    </tr>\n    <tr>\n      <th>05</th>\n      <td>6055</td>\n      <td>2015</td>\n      <td>0</td>\n      <td>5</td>\n      <td>0</td>\n      <td>22</td>\n      <td>0</td>\n      <td>0</td>\n      <td>1</td>\n      <td>0</td>\n      <td>...</td>\n      <td>0</td>\n      <td>0</td>\n      <td>0</td>\n      <td>0</td>\n      <td>0</td>\n      <td>0</td>\n      <td>0</td>\n      <td>0</td>\n      <td>0</td>\n      <td>0</td>\n    </tr>\n    <tr>\n      <th rowspan=\"9\" valign=\"top\">ACHN15302</th>\n      <th>01</th>\n      <td>6055</td>\n      <td>2015</td>\n      <td>0</td>\n      <td>9</td>\n      <td>2</td>\n      <td>58</td>\n      <td>0</td>\n      <td>0</td>\n      <td>1</td>\n      <td>0</td>\n      <td>...</td>\n      <td>0</td>\n      <td>0</td>\n      <td>0</td>\n      <td>0</td>\n      <td>0</td>\n      <td>0</td>\n      <td>0</td>\n      <td>0</td>\n      <td>0</td>\n      <td>0</td>\n    </tr>\n    <tr>\n      <th>02</th>\n      <td>6055</td>\n      <td>2015</td>\n      <td>0</td>\n      <td>9</td>\n      <td>2</td>\n      <td>60</td>\n      <td>0</td>\n      <td>0</td>\n      <td>1</td>\n      <td>0</td>\n      <td>...</td>\n      <td>0</td>\n      <td>0</td>\n      <td>0</td>\n      <td>0</td>\n      <td>0</td>\n      <td>0</td>\n      <td>0</td>\n      <td>0</td>\n      <td>0</td>\n      <td>0</td>\n    </tr>\n    <tr>\n      <th>03</th>\n      <td>6055</td>\n      <td>2015</td>\n      <td>0</td>\n      <td>9</td>\n      <td>2</td>\n      <td>50</td>\n      <td>0</td>\n      <td>0</td>\n      <td>1</td>\n      <td>0</td>\n      <td>...</td>\n      <td>0</td>\n      <td>0</td>\n      <td>0</td>\n      <td>0</td>\n      <td>0</td>\n      <td>0</td>\n      <td>0</td>\n      <td>0</td>\n      <td>0</td>\n      <td>0</td>\n    </tr>\n    <tr>\n      <th>04</th>\n      <td>6055</td>\n      <td>2015</td>\n      <td>0</td>\n      <td>9</td>\n      <td>2</td>\n      <td>66</td>\n      <td>1</td>\n      <td>0</td>\n      <td>1</td>\n      <td>0</td>\n      <td>...</td>\n      <td>0</td>\n      <td>0</td>\n      <td>0</td>\n      <td>0</td>\n      <td>0</td>\n      <td>0</td>\n      <td>0</td>\n      <td>0</td>\n      <td>0</td>\n      <td>0</td>\n    </tr>\n    <tr>\n      <th>05</th>\n      <td>6055</td>\n      <td>2015</td>\n      <td>0</td>\n      <td>9</td>\n      <td>2</td>\n      <td>54</td>\n      <td>0</td>\n      <td>0</td>\n      <td>1</td>\n      <td>0</td>\n      <td>...</td>\n      <td>0</td>\n      <td>0</td>\n      <td>0</td>\n      <td>0</td>\n      <td>0</td>\n      <td>0</td>\n      <td>0</td>\n      <td>0</td>\n      <td>0</td>\n      <td>0</td>\n    </tr>\n    <tr>\n      <th>06</th>\n      <td>6055</td>\n      <td>2015</td>\n      <td>0</td>\n      <td>9</td>\n      <td>2</td>\n      <td>40</td>\n      <td>1</td>\n      <td>0</td>\n      <td>1</td>\n      <td>0</td>\n      <td>...</td>\n      <td>0</td>\n      <td>0</td>\n      <td>0</td>\n      <td>0</td>\n      <td>0</td>\n      <td>0</td>\n      <td>0</td>\n      <td>0</td>\n      <td>0</td>\n      <td>0</td>\n    </tr>\n    <tr>\n      <th>07</th>\n      <td>6055</td>\n      <td>2015</td>\n      <td>0</td>\n      <td>9</td>\n      <td>2</td>\n      <td>58</td>\n      <td>1</td>\n      <td>0</td>\n      <td>1</td>\n      <td>0</td>\n      <td>...</td>\n      <td>0</td>\n      <td>0</td>\n      <td>0</td>\n      <td>0</td>\n      <td>0</td>\n      <td>0</td>\n      <td>0</td>\n      <td>0</td>\n      <td>0</td>\n      <td>0</td>\n    </tr>\n    <tr>\n      <th>08</th>\n      <td>6055</td>\n      <td>2015</td>\n      <td>0</td>\n      <td>9</td>\n      <td>2</td>\n      <td>41</td>\n      <td>0</td>\n      <td>0</td>\n      <td>1</td>\n      <td>0</td>\n      <td>...</td>\n      <td>0</td>\n      <td>0</td>\n      <td>0</td>\n      <td>0</td>\n      <td>0</td>\n      <td>0</td>\n      <td>0</td>\n      <td>0</td>\n      <td>0</td>\n      <td>0</td>\n    </tr>\n    <tr>\n      <th>09</th>\n      <td>6055</td>\n      <td>2015</td>\n      <td>0</td>\n      <td>9</td>\n      <td>2</td>\n      <td>56</td>\n      <td>0</td>\n      <td>0</td>\n      <td>1</td>\n      <td>0</td>\n      <td>...</td>\n      <td>0</td>\n      <td>0</td>\n      <td>0</td>\n      <td>0</td>\n      <td>0</td>\n      <td>0</td>\n      <td>0</td>\n      <td>0</td>\n      <td>0</td>\n      <td>0</td>\n    </tr>\n    <tr>\n      <th rowspan=\"8\" valign=\"top\">ACHN18301</th>\n      <th>01</th>\n      <td>6055</td>\n      <td>2018</td>\n      <td>0</td>\n      <td>8</td>\n      <td>1</td>\n      <td>58</td>\n      <td>0</td>\n      <td>0</td>\n      <td>1</td>\n      <td>0</td>\n      <td>...</td>\n      <td>0</td>\n      <td>0</td>\n      <td>0</td>\n      <td>0</td>\n      <td>0</td>\n      <td>0</td>\n      <td>0</td>\n      <td>0</td>\n      <td>0</td>\n      <td>0</td>\n    </tr>\n    <tr>\n      <th>02</th>\n      <td>6055</td>\n      <td>2018</td>\n      <td>0</td>\n      <td>8</td>\n      <td>1</td>\n      <td>32</td>\n      <td>0</td>\n      <td>0</td>\n      <td>1</td>\n      <td>0</td>\n      <td>...</td>\n      <td>0</td>\n      <td>0</td>\n      <td>0</td>\n      <td>0</td>\n      <td>0</td>\n      <td>0</td>\n      <td>0</td>\n      <td>0</td>\n      <td>0</td>\n      <td>0</td>\n    </tr>\n    <tr>\n      <th>03</th>\n      <td>6055</td>\n      <td>2018</td>\n      <td>0</td>\n      <td>8</td>\n      <td>1</td>\n      <td>45</td>\n      <td>0</td>\n      <td>0</td>\n      <td>1</td>\n      <td>0</td>\n      <td>...</td>\n      <td>0</td>\n      <td>0</td>\n      <td>0</td>\n      <td>0</td>\n      <td>0</td>\n      <td>0</td>\n      <td>0</td>\n      <td>0</td>\n      <td>0</td>\n      <td>0</td>\n    </tr>\n    <tr>\n      <th>04</th>\n      <td>6055</td>\n      <td>2018</td>\n      <td>0</td>\n      <td>8</td>\n      <td>1</td>\n      <td>35</td>\n      <td>1</td>\n      <td>0</td>\n      <td>1</td>\n      <td>0</td>\n      <td>...</td>\n      <td>0</td>\n      <td>0</td>\n      <td>0</td>\n      <td>0</td>\n      <td>0</td>\n      <td>0</td>\n      <td>0</td>\n      <td>0</td>\n      <td>0</td>\n      <td>0</td>\n    </tr>\n    <tr>\n      <th>05</th>\n      <td>6055</td>\n      <td>2018</td>\n      <td>0</td>\n      <td>8</td>\n      <td>1</td>\n      <td>35</td>\n      <td>0</td>\n      <td>0</td>\n      <td>1</td>\n      <td>0</td>\n      <td>...</td>\n      <td>0</td>\n      <td>0</td>\n      <td>0</td>\n      <td>0</td>\n      <td>0</td>\n      <td>0</td>\n      <td>0</td>\n      <td>0</td>\n      <td>0</td>\n      <td>0</td>\n    </tr>\n    <tr>\n      <th>06</th>\n      <td>6055</td>\n      <td>2018</td>\n      <td>0</td>\n      <td>8</td>\n      <td>1</td>\n      <td>66</td>\n      <td>0</td>\n      <td>0</td>\n      <td>1</td>\n      <td>0</td>\n      <td>...</td>\n      <td>0</td>\n      <td>0</td>\n      <td>0</td>\n      <td>0</td>\n      <td>0</td>\n      <td>0</td>\n      <td>0</td>\n      <td>0</td>\n      <td>0</td>\n      <td>0</td>\n    </tr>\n    <tr>\n      <th>07</th>\n      <td>6055</td>\n      <td>2018</td>\n      <td>0</td>\n      <td>8</td>\n      <td>1</td>\n      <td>29</td>\n      <td>1</td>\n      <td>0</td>\n      <td>1</td>\n      <td>0</td>\n      <td>...</td>\n      <td>0</td>\n      <td>0</td>\n      <td>0</td>\n      <td>0</td>\n      <td>0</td>\n      <td>0</td>\n      <td>0</td>\n      <td>0</td>\n      <td>0</td>\n      <td>0</td>\n    </tr>\n    <tr>\n      <th>08</th>\n      <td>6055</td>\n      <td>2018</td>\n      <td>0</td>\n      <td>8</td>\n      <td>1</td>\n      <td>67</td>\n      <td>0</td>\n      <td>0</td>\n      <td>1</td>\n      <td>0</td>\n      <td>...</td>\n      <td>0</td>\n      <td>0</td>\n      <td>0</td>\n      <td>0</td>\n      <td>0</td>\n      <td>0</td>\n      <td>0</td>\n      <td>0</td>\n      <td>0</td>\n      <td>0</td>\n    </tr>\n    <tr>\n      <th rowspan=\"3\" valign=\"top\">AMAD00101</th>\n      <th>01</th>\n      <td>6814</td>\n      <td>2000</td>\n      <td>0</td>\n      <td>5</td>\n      <td>0</td>\n      <td>32</td>\n      <td>0</td>\n      <td>0</td>\n      <td>0</td>\n      <td>1</td>\n      <td>...</td>\n      <td>0</td>\n      <td>0</td>\n      <td>0</td>\n      <td>0</td>\n      <td>0</td>\n      <td>0</td>\n      <td>0</td>\n      <td>0</td>\n      <td>0</td>\n      <td>0</td>\n    </tr>\n    <tr>\n      <th>02</th>\n      <td>6814</td>\n      <td>2000</td>\n      <td>0</td>\n      <td>5</td>\n      <td>0</td>\n      <td>29</td>\n      <td>0</td>\n      <td>0</td>\n      <td>0</td>\n      <td>1</td>\n      <td>...</td>\n      <td>0</td>\n      <td>0</td>\n      <td>0</td>\n      <td>0</td>\n      <td>0</td>\n      <td>0</td>\n      <td>0</td>\n      <td>0</td>\n      <td>0</td>\n      <td>0</td>\n    </tr>\n    <tr>\n      <th>03</th>\n      <td>6814</td>\n      <td>2000</td>\n      <td>0</td>\n      <td>5</td>\n      <td>0</td>\n      <td>28</td>\n      <td>0</td>\n      <td>0</td>\n      <td>0</td>\n      <td>1</td>\n      <td>...</td>\n      <td>0</td>\n      <td>0</td>\n      <td>0</td>\n      <td>0</td>\n      <td>0</td>\n      <td>0</td>\n      <td>0</td>\n      <td>0</td>\n      <td>0</td>\n      <td>0</td>\n    </tr>\n  </tbody>\n</table>\n<p>25 rows × 43 columns</p>\n</div>",
      "text/plain": "                         height  expedition_year  commercial_route  \\\nexpedition_id member_id                                              \nACHN15301     01           6055             2015                 0   \n              02           6055             2015                 0   \n              03           6055             2015                 0   \n              04           6055             2015                 0   \n              05           6055             2015                 0   \nACHN15302     01           6055             2015                 0   \n              02           6055             2015                 0   \n              03           6055             2015                 0   \n              04           6055             2015                 0   \n              05           6055             2015                 0   \n              06           6055             2015                 0   \n              07           6055             2015                 0   \n              08           6055             2015                 0   \n              09           6055             2015                 0   \nACHN18301     01           6055             2018                 0   \n              02           6055             2018                 0   \n              03           6055             2018                 0   \n              04           6055             2018                 0   \n              05           6055             2018                 0   \n              06           6055             2018                 0   \n              07           6055             2018                 0   \n              08           6055             2018                 0   \nAMAD00101     01           6814             2000                 0   \n              02           6814             2000                 0   \n              03           6814             2000                 0   \n\n                         total_members  total_hired  age  female  o2_used  \\\nexpedition_id member_id                                                     \nACHN15301     01                     5            0   23       0        0   \n              02                     5            0   23       1        0   \n              03                     5            0   19       0        0   \n              04                     5            0   25       0        0   \n              05                     5            0   22       0        0   \nACHN15302     01                     9            2   58       0        0   \n              02                     9            2   60       0        0   \n              03                     9            2   50       0        0   \n              04                     9            2   66       1        0   \n              05                     9            2   54       0        0   \n              06                     9            2   40       1        0   \n              07                     9            2   58       1        0   \n              08                     9            2   41       0        0   \n              09                     9            2   56       0        0   \nACHN18301     01                     8            1   58       0        0   \n              02                     8            1   32       0        0   \n              03                     8            1   45       0        0   \n              04                     8            1   35       1        0   \n              05                     8            1   35       0        0   \n              06                     8            1   66       0        0   \n              07                     8            1   29       1        0   \n              08                     8            1   67       0        0   \nAMAD00101     01                     5            0   32       0        0   \n              02                     5            0   29       0        0   \n              03                     5            0   28       0        0   \n\n                         season_autumn  season_spring  ...  himal_northern  \\\nexpedition_id member_id                                ...                   \nACHN15301     01                     1              0  ...               0   \n              02                     1              0  ...               0   \n              03                     1              0  ...               0   \n              04                     1              0  ...               0   \n              05                     1              0  ...               0   \nACHN15302     01                     1              0  ...               0   \n              02                     1              0  ...               0   \n              03                     1              0  ...               0   \n              04                     1              0  ...               0   \n              05                     1              0  ...               0   \n              06                     1              0  ...               0   \n              07                     1              0  ...               0   \n              08                     1              0  ...               0   \n              09                     1              0  ...               0   \nACHN18301     01                     1              0  ...               0   \n              02                     1              0  ...               0   \n              03                     1              0  ...               0   \n              04                     1              0  ...               0   \n              05                     1              0  ...               0   \n              06                     1              0  ...               0   \n              07                     1              0  ...               0   \n              08                     1              0  ...               0   \nAMAD00101     01                     0              1  ...               0   \n              02                     0              1  ...               0   \n              03                     0              1  ...               0   \n\n                         himal_palchunghamga  himal_pamari  himal_peri  \\\nexpedition_id member_id                                                  \nACHN15301     01                           0             0           0   \n              02                           0             0           0   \n              03                           0             0           0   \n              04                           0             0           0   \n              05                           0             0           0   \nACHN15302     01                           0             0           0   \n              02                           0             0           0   \n              03                           0             0           0   \n              04                           0             0           0   \n              05                           0             0           0   \n              06                           0             0           0   \n              07                           0             0           0   \n              08                           0             0           0   \n              09                           0             0           0   \nACHN18301     01                           0             0           0   \n              02                           0             0           0   \n              03                           0             0           0   \n              04                           0             0           0   \n              05                           0             0           0   \n              06                           0             0           0   \n              07                           0             0           0   \n              08                           0             0           0   \nAMAD00101     01                           0             0           0   \n              02                           0             0           0   \n              03                           0             0           0   \n\n                         himal_rolwaling  himal_saipal  himal_serang  \\\nexpedition_id member_id                                                \nACHN15301     01                       0             0             0   \n              02                       0             0             0   \n              03                       0             0             0   \n              04                       0             0             0   \n              05                       0             0             0   \nACHN15302     01                       0             0             0   \n              02                       0             0             0   \n              03                       0             0             0   \n              04                       0             0             0   \n              05                       0             0             0   \n              06                       0             0             0   \n              07                       0             0             0   \n              08                       0             0             0   \n              09                       0             0             0   \nACHN18301     01                       0             0             0   \n              02                       0             0             0   \n              03                       0             0             0   \n              04                       0             0             0   \n              05                       0             0             0   \n              06                       0             0             0   \n              07                       0             0             0   \n              08                       0             0             0   \nAMAD00101     01                       0             0             0   \n              02                       0             0             0   \n              03                       0             0             0   \n\n                         himal_singalila  himal_umbak  himal_yokapahar  \nexpedition_id member_id                                                 \nACHN15301     01                       0            0                0  \n              02                       0            0                0  \n              03                       0            0                0  \n              04                       0            0                0  \n              05                       0            0                0  \nACHN15302     01                       0            0                0  \n              02                       0            0                0  \n              03                       0            0                0  \n              04                       0            0                0  \n              05                       0            0                0  \n              06                       0            0                0  \n              07                       0            0                0  \n              08                       0            0                0  \n              09                       0            0                0  \nACHN18301     01                       0            0                0  \n              02                       0            0                0  \n              03                       0            0                0  \n              04                       0            0                0  \n              05                       0            0                0  \n              06                       0            0                0  \n              07                       0            0                0  \n              08                       0            0                0  \nAMAD00101     01                       0            0                0  \n              02                       0            0                0  \n              03                       0            0                0  \n\n[25 rows x 43 columns]"
     },
     "execution_count": 6,
     "metadata": {},
     "output_type": "execute_result"
    }
   ],
   "source": [
    "model_df.head(25)"
   ]
  },
  {
   "cell_type": "code",
   "execution_count": 7,
   "metadata": {},
   "outputs": [],
   "source": [
    "X_train = model_df[hdb_df['test_indicator'] == 0]\n",
    "y_train = hdb_df['successful_summit'][hdb_df['test_indicator'] == 0]\n",
    "folds = hdb_df['fold'][hdb_df['test_indicator'] == 0]\n",
    "\n",
    "X_test = model_df[hdb_df['test_indicator'] == 1]\n",
    "y_test = hdb_df['successful_summit'][hdb_df['test_indicator'] == 1]"
   ]
  },
  {
   "cell_type": "code",
   "execution_count": 8,
   "metadata": {},
   "outputs": [],
   "source": [
    "cv = LeaveOneGroupOut()\n",
    "param_grid = {\n",
    "    'n_estimators': [50, 60, 70, 80, 90, 100, 110, 120],\n",
    "    'max_depth': [None, 5, 10, 15]\n",
    "}\n",
    "\n",
    "gscv_rf = GridSearchCV(RandomForestClassifier(criterion='gini', oob_score=False), param_grid=param_grid, cv=cv.get_n_splits(X_train, y_train, folds))"
   ]
  },
  {
   "cell_type": "code",
   "execution_count": 9,
   "metadata": {},
   "outputs": [
    {
     "data": {
      "text/plain": "GridSearchCV(cv=8, error_score=nan,\n             estimator=RandomForestClassifier(bootstrap=True, ccp_alpha=0.0,\n                                              class_weight=None,\n                                              criterion='gini', max_depth=None,\n                                              max_features='auto',\n                                              max_leaf_nodes=None,\n                                              max_samples=None,\n                                              min_impurity_decrease=0.0,\n                                              min_impurity_split=None,\n                                              min_samples_leaf=1,\n                                              min_samples_split=2,\n                                              min_weight_fraction_leaf=0.0,\n                                              n_estimators=100, n_jobs=None,\n                                              oob_score=False,\n                                              random_state=None, verbose=0,\n                                              warm_start=False),\n             iid='deprecated', n_jobs=None,\n             param_grid={'max_depth': [None, 5, 10, 15],\n                         'n_estimators': [50, 60, 70, 80, 90, 100, 110, 120]},\n             pre_dispatch='2*n_jobs', refit=True, return_train_score=False,\n             scoring=None, verbose=0)"
     },
     "execution_count": 9,
     "metadata": {},
     "output_type": "execute_result"
    }
   ],
   "source": [
    "gscv_rf.fit(X_train, y_train)"
   ]
  },
  {
   "cell_type": "code",
   "execution_count": 10,
   "metadata": {},
   "outputs": [
    {
     "data": {
      "text/plain": "0.695144205091686"
     },
     "execution_count": 10,
     "metadata": {},
     "output_type": "execute_result"
    }
   ],
   "source": [
    "gscv_rf.best_score_"
   ]
  },
  {
   "cell_type": "code",
   "execution_count": 11,
   "metadata": {},
   "outputs": [
    {
     "data": {
      "text/plain": "RandomForestClassifier(bootstrap=True, ccp_alpha=0.0, class_weight=None,\n                       criterion='gini', max_depth=5, max_features='auto',\n                       max_leaf_nodes=None, max_samples=None,\n                       min_impurity_decrease=0.0, min_impurity_split=None,\n                       min_samples_leaf=1, min_samples_split=2,\n                       min_weight_fraction_leaf=0.0, n_estimators=90,\n                       n_jobs=None, oob_score=False, random_state=None,\n                       verbose=0, warm_start=False)"
     },
     "execution_count": 11,
     "metadata": {},
     "output_type": "execute_result"
    }
   ],
   "source": [
    "model_rf = gscv_rf.best_estimator_\n",
    "model_rf"
   ]
  },
  {
   "cell_type": "code",
   "execution_count": 12,
   "metadata": {},
   "outputs": [
    {
     "data": {
      "text/plain": "0.7675583051450953"
     },
     "execution_count": 12,
     "metadata": {},
     "output_type": "execute_result"
    }
   ],
   "source": [
    "sum(model_rf.predict(X_train) == y_train)/len(y_train)"
   ]
  },
  {
   "cell_type": "code",
   "execution_count": 13,
   "metadata": {},
   "outputs": [
    {
     "data": {
      "text/plain": "0.769053934571176"
     },
     "execution_count": 13,
     "metadata": {},
     "output_type": "execute_result"
    }
   ],
   "source": [
    "sum(model_rf.predict(X_test) == y_test)/len(y_test)"
   ]
  },
  {
   "cell_type": "code",
   "execution_count": 14,
   "metadata": {},
   "outputs": [
    {
     "data": {
      "text/html": "<div>\n<style scoped>\n    .dataframe tbody tr th:only-of-type {\n        vertical-align: middle;\n    }\n\n    .dataframe tbody tr th {\n        vertical-align: top;\n    }\n\n    .dataframe thead th {\n        text-align: right;\n    }\n</style>\n<table border=\"1\" class=\"dataframe\">\n  <thead>\n    <tr style=\"text-align: right;\">\n      <th></th>\n      <th>feature</th>\n      <th>importance</th>\n    </tr>\n  </thead>\n  <tbody>\n    <tr>\n      <th>7</th>\n      <td>o2_used</td>\n      <td>50.741831</td>\n    </tr>\n    <tr>\n      <th>1</th>\n      <td>expedition_year</td>\n      <td>13.015392</td>\n    </tr>\n    <tr>\n      <th>0</th>\n      <td>height</td>\n      <td>9.964661</td>\n    </tr>\n    <tr>\n      <th>2</th>\n      <td>commercial_route</td>\n      <td>7.141121</td>\n    </tr>\n    <tr>\n      <th>13</th>\n      <td>himal_barun</td>\n      <td>3.792770</td>\n    </tr>\n    <tr>\n      <th>4</th>\n      <td>total_hired</td>\n      <td>3.654419</td>\n    </tr>\n    <tr>\n      <th>12</th>\n      <td>himal_annapurna</td>\n      <td>2.188598</td>\n    </tr>\n    <tr>\n      <th>3</th>\n      <td>total_members</td>\n      <td>1.812888</td>\n    </tr>\n    <tr>\n      <th>9</th>\n      <td>season_spring</td>\n      <td>1.610214</td>\n    </tr>\n    <tr>\n      <th>5</th>\n      <td>age</td>\n      <td>1.419049</td>\n    </tr>\n    <tr>\n      <th>8</th>\n      <td>season_autumn</td>\n      <td>1.281514</td>\n    </tr>\n    <tr>\n      <th>25</th>\n      <td>himal_khumbu</td>\n      <td>1.236813</td>\n    </tr>\n    <tr>\n      <th>16</th>\n      <td>himal_dhaulagiri</td>\n      <td>0.474298</td>\n    </tr>\n    <tr>\n      <th>11</th>\n      <td>season_winter</td>\n      <td>0.340794</td>\n    </tr>\n    <tr>\n      <th>29</th>\n      <td>himal_makalu</td>\n      <td>0.228194</td>\n    </tr>\n    <tr>\n      <th>30</th>\n      <td>himal_manaslu</td>\n      <td>0.221546</td>\n    </tr>\n    <tr>\n      <th>10</th>\n      <td>season_summer</td>\n      <td>0.135094</td>\n    </tr>\n    <tr>\n      <th>6</th>\n      <td>female</td>\n      <td>0.105136</td>\n    </tr>\n    <tr>\n      <th>23</th>\n      <td>himal_kanjiroba</td>\n      <td>0.098434</td>\n    </tr>\n    <tr>\n      <th>36</th>\n      <td>himal_peri</td>\n      <td>0.087587</td>\n    </tr>\n    <tr>\n      <th>33</th>\n      <td>himal_northern</td>\n      <td>0.049983</td>\n    </tr>\n    <tr>\n      <th>26</th>\n      <td>himal_kumbhakarna</td>\n      <td>0.048229</td>\n    </tr>\n    <tr>\n      <th>28</th>\n      <td>himal_langtang</td>\n      <td>0.048074</td>\n    </tr>\n    <tr>\n      <th>22</th>\n      <td>himal_jugal</td>\n      <td>0.047753</td>\n    </tr>\n    <tr>\n      <th>37</th>\n      <td>himal_rolwaling</td>\n      <td>0.045567</td>\n    </tr>\n    <tr>\n      <th>15</th>\n      <td>himal_damodar</td>\n      <td>0.040452</td>\n    </tr>\n    <tr>\n      <th>38</th>\n      <td>himal_saipal</td>\n      <td>0.035697</td>\n    </tr>\n    <tr>\n      <th>18</th>\n      <td>himal_ganesh</td>\n      <td>0.026670</td>\n    </tr>\n    <tr>\n      <th>31</th>\n      <td>himal_mustang</td>\n      <td>0.023613</td>\n    </tr>\n    <tr>\n      <th>21</th>\n      <td>himal_janak</td>\n      <td>0.022037</td>\n    </tr>\n    <tr>\n      <th>17</th>\n      <td>himal_dolpo</td>\n      <td>0.013340</td>\n    </tr>\n    <tr>\n      <th>40</th>\n      <td>himal_singalila</td>\n      <td>0.012493</td>\n    </tr>\n    <tr>\n      <th>42</th>\n      <td>himal_yokapahar</td>\n      <td>0.009777</td>\n    </tr>\n    <tr>\n      <th>27</th>\n      <td>himal_kutang</td>\n      <td>0.007982</td>\n    </tr>\n    <tr>\n      <th>20</th>\n      <td>himal_gorakh</td>\n      <td>0.005742</td>\n    </tr>\n    <tr>\n      <th>35</th>\n      <td>himal_pamari</td>\n      <td>0.002408</td>\n    </tr>\n    <tr>\n      <th>14</th>\n      <td>himal_changla</td>\n      <td>0.002203</td>\n    </tr>\n    <tr>\n      <th>34</th>\n      <td>himal_palchunghamga</td>\n      <td>0.002067</td>\n    </tr>\n    <tr>\n      <th>19</th>\n      <td>himal_gautam</td>\n      <td>0.001777</td>\n    </tr>\n    <tr>\n      <th>24</th>\n      <td>himal_kanti</td>\n      <td>0.001723</td>\n    </tr>\n    <tr>\n      <th>32</th>\n      <td>himal_nalakankar</td>\n      <td>0.001321</td>\n    </tr>\n    <tr>\n      <th>39</th>\n      <td>himal_serang</td>\n      <td>0.000502</td>\n    </tr>\n    <tr>\n      <th>41</th>\n      <td>himal_umbak</td>\n      <td>0.000235</td>\n    </tr>\n  </tbody>\n</table>\n</div>",
      "text/plain": "                feature  importance\n7               o2_used   50.741831\n1       expedition_year   13.015392\n0                height    9.964661\n2      commercial_route    7.141121\n13          himal_barun    3.792770\n4           total_hired    3.654419\n12      himal_annapurna    2.188598\n3         total_members    1.812888\n9         season_spring    1.610214\n5                   age    1.419049\n8         season_autumn    1.281514\n25         himal_khumbu    1.236813\n16     himal_dhaulagiri    0.474298\n11        season_winter    0.340794\n29         himal_makalu    0.228194\n30        himal_manaslu    0.221546\n10        season_summer    0.135094\n6                female    0.105136\n23      himal_kanjiroba    0.098434\n36           himal_peri    0.087587\n33       himal_northern    0.049983\n26    himal_kumbhakarna    0.048229\n28       himal_langtang    0.048074\n22          himal_jugal    0.047753\n37      himal_rolwaling    0.045567\n15        himal_damodar    0.040452\n38         himal_saipal    0.035697\n18         himal_ganesh    0.026670\n31        himal_mustang    0.023613\n21          himal_janak    0.022037\n17          himal_dolpo    0.013340\n40      himal_singalila    0.012493\n42      himal_yokapahar    0.009777\n27         himal_kutang    0.007982\n20         himal_gorakh    0.005742\n35         himal_pamari    0.002408\n14        himal_changla    0.002203\n34  himal_palchunghamga    0.002067\n19         himal_gautam    0.001777\n24          himal_kanti    0.001723\n32     himal_nalakankar    0.001321\n39         himal_serang    0.000502\n41          himal_umbak    0.000235"
     },
     "execution_count": 14,
     "metadata": {},
     "output_type": "execute_result"
    }
   ],
   "source": [
    "pd.DataFrame({\n",
    "    'feature': X_train.columns,\n",
    "    'importance': 100*model_rf.feature_importances_\n",
    "}).sort_values(by='importance', axis=0, ascending=False)"
   ]
  }
 ]
}